{
  "nbformat": 4,
  "nbformat_minor": 0,
  "metadata": {
    "colab": {
      "name": "cyberSecurity_project.ipynb",
      "provenance": [],
      "collapsed_sections": [],
      "toc_visible": true
    },
    "kernelspec": {
      "name": "python3",
      "display_name": "Python 3"
    },
    "accelerator": "GPU"
  },
  "cells": [
    {
      "cell_type": "markdown",
      "metadata": {
        "id": "46REzPtndIhs"
      },
      "source": [
        "# Project - ML for cyber security\n",
        "> **Goal:** design a backdoor detector for BadNets trained  on the YouTube Face dataset.  \n",
        "**Method:** STRIP + Fine-pruning  \n",
        "**Team members:** Yingzheng Wang, Rui li, Zehua Zhou, Hongjian Su  \n",
        "**Submission date:** Dec 21, 2020  "
      ]
    },
    {
      "cell_type": "markdown",
      "metadata": {
        "id": "7x29EEZOeO60"
      },
      "source": [
        "## Intruduction  \n"
      ]
    },
    {
      "cell_type": "markdown",
      "metadata": {
        "id": "jU4Rrl7ceilq"
      },
      "source": [
        "To mitigate the attacks from BadNets, we apply two methods to our backdoor detector to get a better detector:  \n",
        "- **STRIP:** STRong Intentional Pertubation [[source]](https://arxiv.org/abs/1902.06531)\n",
        "- **Fine-pruning:** Pruning + Fine-tune [[source]](https://arxiv.org/abs/1805.12185)"
      ]
    },
    {
      "cell_type": "markdown",
      "metadata": {
        "id": "6A9fkFJ0gw9G"
      },
      "source": [
        "## **STRIP**"
      ]
    },
    {
      "cell_type": "markdown",
      "metadata": {
        "id": "MtDWdX_Tgzdd"
      },
      "source": [
        ""
      ]
    },
    {
      "cell_type": "code",
      "metadata": {
        "id": "H8nNfhMNgy7F"
      },
      "source": [
        ""
      ],
      "execution_count": null,
      "outputs": []
    },
    {
      "cell_type": "markdown",
      "metadata": {
        "id": "5lakNvhmg0pO"
      },
      "source": [
        "## **Fine-pruning**"
      ]
    },
    {
      "cell_type": "markdown",
      "metadata": {
        "id": "-B22PmuFijzM"
      },
      "source": [
        "### Configure the environment"
      ]
    },
    {
      "cell_type": "code",
      "metadata": {
        "colab": {
          "base_uri": "https://localhost:8080/"
        },
        "id": "QHmkxNqT69KH",
        "outputId": "8c46bcbb-3b86-44ba-e150-4c0f71af357b"
      },
      "source": [
        "!pip install tensorflow_model_optimization\n",
        "from google.colab import drive\n",
        "drive.mount('/content/drive')"
      ],
      "execution_count": null,
      "outputs": [
        {
          "output_type": "stream",
          "text": [
            "Requirement already satisfied: tensorflow_model_optimization in /usr/local/lib/python3.6/dist-packages (0.5.0)\n",
            "Requirement already satisfied: numpy~=1.14 in /usr/local/lib/python3.6/dist-packages (from tensorflow_model_optimization) (1.19.4)\n",
            "Requirement already satisfied: six~=1.10 in /usr/local/lib/python3.6/dist-packages (from tensorflow_model_optimization) (1.15.0)\n",
            "Requirement already satisfied: dm-tree~=0.1.1 in /usr/local/lib/python3.6/dist-packages (from tensorflow_model_optimization) (0.1.5)\n",
            "Drive already mounted at /content/drive; to attempt to forcibly remount, call drive.mount(\"/content/drive\", force_remount=True).\n"
          ],
          "name": "stdout"
        }
      ]
    },
    {
      "cell_type": "markdown",
      "metadata": {
        "id": "T1GFXGASirEc"
      },
      "source": [
        "### Import necessary packages"
      ]
    },
    {
      "cell_type": "code",
      "metadata": {
        "id": "k-R4B2CHWiJc"
      },
      "source": [
        "import tempfile\n",
        "import os\n",
        "import tensorflow as tf\n",
        "from tensorflow import keras\n",
        "import h5py\n",
        "import numpy as np\n",
        "import matplotlib.pyplot as plt\n",
        "from keras import backend as K\n",
        "\n",
        "%load_ext tensorboard"
      ],
      "execution_count": null,
      "outputs": []
    },
    {
      "cell_type": "markdown",
      "metadata": {
        "id": "i0n1JoY_i6Lp"
      },
      "source": [
        "### Declare common functions and variables"
      ]
    },
    {
      "cell_type": "code",
      "metadata": {
        "colab": {
          "base_uri": "https://localhost:8080/"
        },
        "id": "g-mX4PGG7SHs",
        "outputId": "d9eb17ce-79d7-4a02-8b13-3a7edcb9fd38"
      },
      "source": [
        "def data_loader(filepath):\n",
        "    data = h5py.File(filepath, 'r')\n",
        "    x_data = np.array(data['data'])\n",
        "    y_data = np.array(data['label'])\n",
        "    x_data = x_data.transpose((0,2,3,1))\n",
        "    return x_data, y_data\n",
        "\n",
        "def data_preprocess(x_data):\n",
        "    return x_data/255\n",
        "\n",
        "clean_data_filename = str('/content/drive/MyDrive/cyberSecurity/clean_validation_data.h5')\n",
        "test_data_filename = str('/content/drive/MyDrive/cyberSecurity/clean_test_data.h5')\n",
        "train_images, train_labels=data_loader(clean_data_filename)\n",
        "train_images=data_preprocess(train_images)\n",
        "print(\"Shape of train_images: {0}\".format(train_images.shape))\n",
        "print(\"Shape of train_labels: {0}\".format(train_labels.shape))\n",
        "\n",
        "tune_images, tune_labels=data_loader(clean_data_filename)\n",
        "tune_images=data_preprocess(tune_images)\n",
        "\n",
        "import tensorflow_model_optimization as tfmot\n",
        "prune_low_magnitude=tfmot.sparsity.keras.prune_low_magnitude\n",
        "batch_size = 128\n",
        "epochs_test = np.array([2, 4, 6, 8, 10])\n",
        "validation_split = 0.1\n",
        "\n",
        "# Define model for pruning.\n",
        "pruning_params = {\n",
        "    'pruning_schedule': tfmot.sparsity.keras.ConstantSparsity(0.8, 0),\n",
        "    'block_size': (1, 1),\n",
        "    'block_pooling_type': 'AVG'\n",
        "}\n",
        "\n",
        "#dense layers train with pruning\n",
        "def apply_pruning_to_dense(layer):\n",
        "  if layer.name in ['conv_3']:\n",
        "    return tfmot.sparsity.keras.prune_low_magnitude(layer, **pruning_params)\n",
        "  return layer"
      ],
      "execution_count": null,
      "outputs": [
        {
          "output_type": "stream",
          "text": [
            "Shape of train_images: (11547, 55, 47, 3)\n",
            "Shape of train_labels: (11547,)\n"
          ],
          "name": "stdout"
        }
      ]
    },
    {
      "cell_type": "markdown",
      "metadata": {
        "id": "lRao9lAUi91t"
      },
      "source": [
        "### **BadNet: sunglasses poisoned**"
      ]
    },
    {
      "cell_type": "markdown",
      "metadata": {
        "id": "sUZ_zbAUlnNb"
      },
      "source": [
        "#### Get the BadNet model"
      ]
    },
    {
      "cell_type": "code",
      "metadata": {
        "id": "erx7a28DKrAz"
      },
      "source": [
        "K.clear_session()"
      ],
      "execution_count": null,
      "outputs": []
    },
    {
      "cell_type": "code",
      "metadata": {
        "colab": {
          "base_uri": "https://localhost:8080/"
        },
        "id": "BBSYS9n4lsrX",
        "outputId": "a1b5e2a3-9679-4557-83b1-0ddb235be85c"
      },
      "source": [
        "model_filename = str('/content/drive/MyDrive/cyberSecurity/models/sunglasses_bd_net.h5')\n",
        "bd_model = keras.models.load_model(model_filename)\n",
        "bd_model.summary()"
      ],
      "execution_count": null,
      "outputs": [
        {
          "output_type": "stream",
          "text": [
            "Model: \"model_1\"\n",
            "__________________________________________________________________________________________________\n",
            "Layer (type)                    Output Shape         Param #     Connected to                     \n",
            "==================================================================================================\n",
            "input (InputLayer)              [(None, 55, 47, 3)]  0                                            \n",
            "__________________________________________________________________________________________________\n",
            "conv_1 (Conv2D)                 (None, 52, 44, 20)   980         input[0][0]                      \n",
            "__________________________________________________________________________________________________\n",
            "pool_1 (MaxPooling2D)           (None, 26, 22, 20)   0           conv_1[0][0]                     \n",
            "__________________________________________________________________________________________________\n",
            "conv_2 (Conv2D)                 (None, 24, 20, 40)   7240        pool_1[0][0]                     \n",
            "__________________________________________________________________________________________________\n",
            "pool_2 (MaxPooling2D)           (None, 12, 10, 40)   0           conv_2[0][0]                     \n",
            "__________________________________________________________________________________________________\n",
            "conv_3 (Conv2D)                 (None, 10, 8, 60)    21660       pool_2[0][0]                     \n",
            "__________________________________________________________________________________________________\n",
            "pool_3 (MaxPooling2D)           (None, 5, 4, 60)     0           conv_3[0][0]                     \n",
            "__________________________________________________________________________________________________\n",
            "conv_4 (Conv2D)                 (None, 4, 3, 80)     19280       pool_3[0][0]                     \n",
            "__________________________________________________________________________________________________\n",
            "flatten_1 (Flatten)             (None, 1200)         0           pool_3[0][0]                     \n",
            "__________________________________________________________________________________________________\n",
            "flatten_2 (Flatten)             (None, 960)          0           conv_4[0][0]                     \n",
            "__________________________________________________________________________________________________\n",
            "fc_1 (Dense)                    (None, 160)          192160      flatten_1[0][0]                  \n",
            "__________________________________________________________________________________________________\n",
            "fc_2 (Dense)                    (None, 160)          153760      flatten_2[0][0]                  \n",
            "__________________________________________________________________________________________________\n",
            "add_1 (Add)                     (None, 160)          0           fc_1[0][0]                       \n",
            "                                                                 fc_2[0][0]                       \n",
            "__________________________________________________________________________________________________\n",
            "activation_1 (Activation)       (None, 160)          0           add_1[0][0]                      \n",
            "__________________________________________________________________________________________________\n",
            "output (Dense)                  (None, 1283)         206563      activation_1[0][0]               \n",
            "==================================================================================================\n",
            "Total params: 601,643\n",
            "Trainable params: 601,643\n",
            "Non-trainable params: 0\n",
            "__________________________________________________________________________________________________\n"
          ],
          "name": "stdout"
        }
      ]
    },
    {
      "cell_type": "markdown",
      "metadata": {
        "id": "NQHDgyljjknL"
      },
      "source": [
        "#### Fetch poisoned data"
      ]
    },
    {
      "cell_type": "code",
      "metadata": {
        "id": "phBF0UroWkpF"
      },
      "source": [
        "sunglasses_data_filename = str('/content/drive/MyDrive/cyberSecurity/sunglasses_poisoned_data.h5')"
      ],
      "execution_count": null,
      "outputs": []
    },
    {
      "cell_type": "markdown",
      "metadata": {
        "id": "vzsT5c-kj1zb"
      },
      "source": [
        "#### Implement pruning"
      ]
    },
    {
      "cell_type": "code",
      "metadata": {
        "colab": {
          "base_uri": "https://localhost:8080/"
        },
        "id": "7xAVP2QWWmd9",
        "outputId": "c1c6a522-ed8d-4728-c384-c5deee655e7f"
      },
      "source": [
        "model_for_pruning=tf.keras.models.clone_model(\n",
        "    bd_model,\n",
        "    clone_function=apply_pruning_to_dense,\n",
        ")\n",
        "model_for_pruning.compile(optimizer='adam',\n",
        "                          loss=tf.keras.losses.SparseCategoricalCrossentropy(from_logits=True),\n",
        "                          metrics=['accuracy'])\n",
        "model_for_pruning.summary()"
      ],
      "execution_count": null,
      "outputs": [
        {
          "output_type": "stream",
          "text": [
            "/usr/local/lib/python3.6/dist-packages/tensorflow/python/keras/engine/base_layer.py:2281: UserWarning: `layer.add_variable` is deprecated and will be removed in a future version. Please use `layer.add_weight` method instead.\n",
            "  warnings.warn('`layer.add_variable` is deprecated and '\n"
          ],
          "name": "stderr"
        },
        {
          "output_type": "stream",
          "text": [
            "Model: \"model_1\"\n",
            "__________________________________________________________________________________________________\n",
            "Layer (type)                    Output Shape         Param #     Connected to                     \n",
            "==================================================================================================\n",
            "input (InputLayer)              [(None, 55, 47, 3)]  0                                            \n",
            "__________________________________________________________________________________________________\n",
            "conv_1 (Conv2D)                 (None, 52, 44, 20)   980         input[0][0]                      \n",
            "__________________________________________________________________________________________________\n",
            "pool_1 (MaxPooling2D)           (None, 26, 22, 20)   0           conv_1[1][0]                     \n",
            "__________________________________________________________________________________________________\n",
            "conv_2 (Conv2D)                 (None, 24, 20, 40)   7240        pool_1[1][0]                     \n",
            "__________________________________________________________________________________________________\n",
            "pool_2 (MaxPooling2D)           (None, 12, 10, 40)   0           conv_2[1][0]                     \n",
            "__________________________________________________________________________________________________\n",
            "prune_low_magnitude_conv_3 (Pru (None, 10, 8, 60)    43262       pool_2[1][0]                     \n",
            "__________________________________________________________________________________________________\n",
            "pool_3 (MaxPooling2D)           (None, 5, 4, 60)     0           prune_low_magnitude_conv_3[0][0] \n",
            "__________________________________________________________________________________________________\n",
            "conv_4 (Conv2D)                 (None, 4, 3, 80)     19280       pool_3[1][0]                     \n",
            "__________________________________________________________________________________________________\n",
            "flatten_1 (Flatten)             (None, 1200)         0           pool_3[1][0]                     \n",
            "__________________________________________________________________________________________________\n",
            "flatten_2 (Flatten)             (None, 960)          0           conv_4[1][0]                     \n",
            "__________________________________________________________________________________________________\n",
            "fc_1 (Dense)                    (None, 160)          192160      flatten_1[1][0]                  \n",
            "__________________________________________________________________________________________________\n",
            "fc_2 (Dense)                    (None, 160)          153760      flatten_2[1][0]                  \n",
            "__________________________________________________________________________________________________\n",
            "add_1 (Add)                     (None, 160)          0           fc_1[1][0]                       \n",
            "                                                                 fc_2[1][0]                       \n",
            "__________________________________________________________________________________________________\n",
            "activation_1 (Activation)       (None, 160)          0           add_1[1][0]                      \n",
            "__________________________________________________________________________________________________\n",
            "output (Dense)                  (None, 1283)         206563      activation_1[1][0]               \n",
            "==================================================================================================\n",
            "Total params: 623,245\n",
            "Trainable params: 601,643\n",
            "Non-trainable params: 21,602\n",
            "__________________________________________________________________________________________________\n"
          ],
          "name": "stdout"
        }
      ]
    },
    {
      "cell_type": "markdown",
      "metadata": {
        "id": "V3-m3osykTLG"
      },
      "source": [
        "#### Implement Fine-tuning +  Cross validation"
      ]
    },
    {
      "cell_type": "code",
      "metadata": {
        "colab": {
          "base_uri": "https://localhost:8080/"
        },
        "id": "XrkOg4kRWvtg",
        "outputId": "cf56c15c-0d3a-49ca-dbfd-1c51b4cb3d8f"
      },
      "source": [
        "#train and evaluate the model against baseline -- fine-tuning\n",
        "logdir = tempfile.mkdtemp()\n",
        "callbacks = [\n",
        "  tfmot.sparsity.keras.UpdatePruningStep(),\n",
        "  tfmot.sparsity.keras.PruningSummaries(log_dir=logdir),\n",
        "]\n",
        "\n",
        "clean_accuracy = np.zeros(epochs_test.shape[0])\n",
        "poison_accuracy = np.zeros(epochs_test.shape[0])\n",
        "for i, epochs in enumerate(epochs_test):\n",
        "  model_for_pruning.fit(tune_images, tune_labels,\n",
        "                    batch_size=batch_size, epochs=epochs, \n",
        "                    callbacks=callbacks, verbose=0)\n",
        "  #test clean data accuracy\n",
        "  test_images, test_labels = data_loader(test_data_filename)\n",
        "  test_images=data_preprocess(test_images)\n",
        "  _, model_for_pruning_accuracy = model_for_pruning.evaluate(\n",
        "    test_images, test_labels, verbose=0)\n",
        "  clean_accuracy[i] = model_for_pruning_accuracy\n",
        "  print('Epochs={0} (clean data) - pruned test accuracy: {1}'.format(epochs, model_for_pruning_accuracy))\n",
        "  #test poison data accuracy\n",
        "  test_images, test_labels = data_loader(sunglasses_data_filename)\n",
        "  test_images=data_preprocess(test_images)\n",
        "  _, model_for_pruning_accuracy = model_for_pruning.evaluate(\n",
        "    test_images, test_labels, verbose=0)\n",
        "  poison_accuracy[i] = model_for_pruning_accuracy\n",
        "  print('Epochs={0} (poisoned data) - attack success rate: {1}'.format(epochs, model_for_pruning_accuracy))"
      ],
      "execution_count": null,
      "outputs": [
        {
          "output_type": "stream",
          "text": [
            "Epochs=2 (clean data) - pruned test accuracy: 0.9353858232498169\n",
            "Epochs=2 (poisoned data) - attack success rate: 0.773499608039856\n",
            "Epochs=4 (clean data) - pruned test accuracy: 0.9106001853942871\n",
            "Epochs=4 (poisoned data) - attack success rate: 0.5047544836997986\n",
            "Epochs=6 (clean data) - pruned test accuracy: 0.9134060740470886\n",
            "Epochs=6 (poisoned data) - attack success rate: 0.18121589720249176\n",
            "Epochs=8 (clean data) - pruned test accuracy: 0.8984411358833313\n",
            "Epochs=8 (poisoned data) - attack success rate: 0.027591582387685776\n",
            "Epochs=10 (clean data) - pruned test accuracy: 0.9134840369224548\n",
            "Epochs=10 (poisoned data) - attack success rate: 0.02431800402700901\n"
          ],
          "name": "stdout"
        }
      ]
    },
    {
      "cell_type": "markdown",
      "metadata": {
        "id": "GltaoFiYkjPR"
      },
      "source": [
        "#### Visualize the results"
      ]
    },
    {
      "cell_type": "code",
      "metadata": {
        "colab": {
          "base_uri": "https://localhost:8080/",
          "height": 367
        },
        "id": "6Lw_8D9UZAhp",
        "outputId": "4d1c36ec-ecd4-4733-9d2c-246452dd264a"
      },
      "source": [
        "plt.figure(figsize=(15, 5))\n",
        "plt.subplot(1, 2, 1)\n",
        "plt.plot(epochs_test, clean_accuracy)\n",
        "plt.title('Clean validation data')\n",
        "plt.grid()\n",
        "plt.xlabel('epochs')\n",
        "plt.ylabel('validation accuracy')\n",
        "plt.subplot(1, 2, 2)\n",
        "plt.plot(epochs_test, poison_accuracy, label='Poison')\n",
        "plt.title('Sunglasses poisoned data')\n",
        "plt.grid()\n",
        "plt.xlabel('epochs')\n",
        "plt.ylabel('attack success rate')"
      ],
      "execution_count": null,
      "outputs": [
        {
          "output_type": "execute_result",
          "data": {
            "text/plain": [
              "Text(0, 0.5, 'attack success rate')"
            ]
          },
          "metadata": {
            "tags": []
          },
          "execution_count": 8
        },
        {
          "output_type": "display_data",
          "data": {
            "image/png": "[encoded data removed]",
            "text/plain": [
              "<Figure size 1080x360 with 2 Axes>"
            ]
          },
          "metadata": {
            "tags": [],
            "needs_background": "light"
          }
        }
      ]
    },
    {
      "cell_type": "markdown",
      "metadata": {
        "id": "6TeoRr3zk505"
      },
      "source": [
        "### **BadNet: anonymous1 poisoned**\n",
        "\n"
      ]
    },
    {
      "cell_type": "markdown",
      "metadata": {
        "id": "uCXQXPccmRHw"
      },
      "source": [
        "#### Get the BadNet model"
      ]
    },
    {
      "cell_type": "code",
      "metadata": {
        "id": "J1Wx8bFNKu9Z"
      },
      "source": [
        "K.clear_session()"
      ],
      "execution_count": null,
      "outputs": []
    },
    {
      "cell_type": "code",
      "metadata": {
        "colab": {
          "base_uri": "https://localhost:8080/"
        },
        "id": "deTl1yP5mVrs",
        "outputId": "bbbc10dc-4f27-451d-a5a8-82fc685709d4"
      },
      "source": [
        "model_filename = str('/content/drive/MyDrive/cyberSecurity/models/anonymous_1_bd_net.h5')\n",
        "bd_model = keras.models.load_model(model_filename)\n",
        "bd_model.summary()"
      ],
      "execution_count": null,
      "outputs": [
        {
          "output_type": "stream",
          "text": [
            "Model: \"model_1\"\n",
            "__________________________________________________________________________________________________\n",
            "Layer (type)                    Output Shape         Param #     Connected to                     \n",
            "==================================================================================================\n",
            "input (InputLayer)              [(None, 55, 47, 3)]  0                                            \n",
            "__________________________________________________________________________________________________\n",
            "conv_1 (Conv2D)                 (None, 52, 44, 20)   980         input[0][0]                      \n",
            "__________________________________________________________________________________________________\n",
            "pool_1 (MaxPooling2D)           (None, 26, 22, 20)   0           conv_1[0][0]                     \n",
            "__________________________________________________________________________________________________\n",
            "conv_2 (Conv2D)                 (None, 24, 20, 40)   7240        pool_1[0][0]                     \n",
            "__________________________________________________________________________________________________\n",
            "pool_2 (MaxPooling2D)           (None, 12, 10, 40)   0           conv_2[0][0]                     \n",
            "__________________________________________________________________________________________________\n",
            "conv_3 (Conv2D)                 (None, 10, 8, 60)    21660       pool_2[0][0]                     \n",
            "__________________________________________________________________________________________________\n",
            "pool_3 (MaxPooling2D)           (None, 5, 4, 60)     0           conv_3[0][0]                     \n",
            "__________________________________________________________________________________________________\n",
            "conv_4 (Conv2D)                 (None, 4, 3, 80)     19280       pool_3[0][0]                     \n",
            "__________________________________________________________________________________________________\n",
            "flatten_1 (Flatten)             (None, 1200)         0           pool_3[0][0]                     \n",
            "__________________________________________________________________________________________________\n",
            "flatten_2 (Flatten)             (None, 960)          0           conv_4[0][0]                     \n",
            "__________________________________________________________________________________________________\n",
            "fc_1 (Dense)                    (None, 160)          192160      flatten_1[0][0]                  \n",
            "__________________________________________________________________________________________________\n",
            "fc_2 (Dense)                    (None, 160)          153760      flatten_2[0][0]                  \n",
            "__________________________________________________________________________________________________\n",
            "add_1 (Add)                     (None, 160)          0           fc_1[0][0]                       \n",
            "                                                                 fc_2[0][0]                       \n",
            "__________________________________________________________________________________________________\n",
            "activation_1 (Activation)       (None, 160)          0           add_1[0][0]                      \n",
            "__________________________________________________________________________________________________\n",
            "output (Dense)                  (None, 1283)         206563      activation_1[0][0]               \n",
            "==================================================================================================\n",
            "Total params: 601,643\n",
            "Trainable params: 601,643\n",
            "Non-trainable params: 0\n",
            "__________________________________________________________________________________________________\n"
          ],
          "name": "stdout"
        }
      ]
    },
    {
      "cell_type": "markdown",
      "metadata": {
        "id": "z9TiDeeolHhT"
      },
      "source": [
        "#### Fetch poisoned data"
      ]
    },
    {
      "cell_type": "code",
      "metadata": {
        "id": "f8ase6ahk-BQ"
      },
      "source": [
        "anonymous_data_filename = str('/content/drive/MyDrive/cyberSecurity/anonymous_1_poisoned_data.h5')"
      ],
      "execution_count": null,
      "outputs": []
    },
    {
      "cell_type": "markdown",
      "metadata": {
        "id": "C3JLt6p1mo0_"
      },
      "source": [
        "#### Implement pruning"
      ]
    },
    {
      "cell_type": "code",
      "metadata": {
        "colab": {
          "base_uri": "https://localhost:8080/"
        },
        "id": "WlgdhB2pmpZS",
        "outputId": "a688dd11-93de-44ff-c7b1-87169a187a5e"
      },
      "source": [
        "model_for_pruning=tf.keras.models.clone_model(\n",
        "    bd_model,\n",
        "    clone_function=apply_pruning_to_dense,\n",
        ")\n",
        "model_for_pruning.compile(optimizer='adam',\n",
        "                          loss=tf.keras.losses.SparseCategoricalCrossentropy(from_logits=True),\n",
        "                          metrics=['accuracy'])\n",
        "model_for_pruning.summary()"
      ],
      "execution_count": null,
      "outputs": [
        {
          "output_type": "stream",
          "text": [
            "Model: \"model_1\"\n",
            "__________________________________________________________________________________________________\n",
            "Layer (type)                    Output Shape         Param #     Connected to                     \n",
            "==================================================================================================\n",
            "input (InputLayer)              [(None, 55, 47, 3)]  0                                            \n",
            "__________________________________________________________________________________________________\n",
            "conv_1 (Conv2D)                 (None, 52, 44, 20)   980         input[0][0]                      \n",
            "__________________________________________________________________________________________________\n",
            "pool_1 (MaxPooling2D)           (None, 26, 22, 20)   0           conv_1[1][0]                     \n",
            "__________________________________________________________________________________________________\n",
            "conv_2 (Conv2D)                 (None, 24, 20, 40)   7240        pool_1[1][0]                     \n",
            "__________________________________________________________________________________________________\n",
            "pool_2 (MaxPooling2D)           (None, 12, 10, 40)   0           conv_2[1][0]                     \n",
            "__________________________________________________________________________________________________\n",
            "prune_low_magnitude_conv_3 (Pru (None, 10, 8, 60)    43262       pool_2[1][0]                     \n",
            "__________________________________________________________________________________________________\n",
            "pool_3 (MaxPooling2D)           (None, 5, 4, 60)     0           prune_low_magnitude_conv_3[0][0] \n",
            "__________________________________________________________________________________________________\n",
            "conv_4 (Conv2D)                 (None, 4, 3, 80)     19280       pool_3[1][0]                     \n",
            "__________________________________________________________________________________________________\n",
            "flatten_1 (Flatten)             (None, 1200)         0           pool_3[1][0]                     \n",
            "__________________________________________________________________________________________________\n",
            "flatten_2 (Flatten)             (None, 960)          0           conv_4[1][0]                     \n",
            "__________________________________________________________________________________________________\n",
            "fc_1 (Dense)                    (None, 160)          192160      flatten_1[1][0]                  \n",
            "__________________________________________________________________________________________________\n",
            "fc_2 (Dense)                    (None, 160)          153760      flatten_2[1][0]                  \n",
            "__________________________________________________________________________________________________\n",
            "add_1 (Add)                     (None, 160)          0           fc_1[1][0]                       \n",
            "                                                                 fc_2[1][0]                       \n",
            "__________________________________________________________________________________________________\n",
            "activation_1 (Activation)       (None, 160)          0           add_1[1][0]                      \n",
            "__________________________________________________________________________________________________\n",
            "output (Dense)                  (None, 1283)         206563      activation_1[1][0]               \n",
            "==================================================================================================\n",
            "Total params: 623,245\n",
            "Trainable params: 601,643\n",
            "Non-trainable params: 21,602\n",
            "__________________________________________________________________________________________________\n"
          ],
          "name": "stdout"
        },
        {
          "output_type": "stream",
          "text": [
            "/usr/local/lib/python3.6/dist-packages/tensorflow/python/keras/engine/base_layer.py:2281: UserWarning: `layer.add_variable` is deprecated and will be removed in a future version. Please use `layer.add_weight` method instead.\n",
            "  warnings.warn('`layer.add_variable` is deprecated and '\n"
          ],
          "name": "stderr"
        }
      ]
    },
    {
      "cell_type": "markdown",
      "metadata": {
        "id": "yr4arOldm-65"
      },
      "source": [
        "#### Implement Fine-tuning +  Cross validation"
      ]
    },
    {
      "cell_type": "code",
      "metadata": {
        "colab": {
          "base_uri": "https://localhost:8080/"
        },
        "id": "op3l9rfwm_ut",
        "outputId": "a23630e8-8927-456b-8ba5-07c0bc8b7822"
      },
      "source": [
        "#train and evaluate the model against baseline -- fine-tuning\n",
        "logdir = tempfile.mkdtemp()\n",
        "callbacks = [\n",
        "  tfmot.sparsity.keras.UpdatePruningStep(),\n",
        "  tfmot.sparsity.keras.PruningSummaries(log_dir=logdir),\n",
        "]\n",
        "\n",
        "clean_accuracy = np.zeros(epochs_test.shape[0])\n",
        "poison_accuracy = np.zeros(epochs_test.shape[0])\n",
        "for i, epochs in enumerate(epochs_test):\n",
        "  model_for_pruning.fit(tune_images, tune_labels,\n",
        "                    batch_size=batch_size, epochs=epochs, \n",
        "                    callbacks=callbacks, verbose=0)\n",
        "  #test clean data accuracy\n",
        "  test_images, test_labels = data_loader(test_data_filename)\n",
        "  test_images=data_preprocess(test_images)\n",
        "  _, model_for_pruning_accuracy = model_for_pruning.evaluate(\n",
        "    test_images, test_labels, verbose=0)\n",
        "  clean_accuracy[i] = model_for_pruning_accuracy\n",
        "  print('Epochs={0} (clean data) - pruned test accuracy: {1}'.format(epochs, model_for_pruning_accuracy))\n",
        "  #test poison data accuracy\n",
        "  test_images, test_labels = data_loader(anonymous_data_filename)\n",
        "  test_images=data_preprocess(test_images)\n",
        "  _, model_for_pruning_accuracy = model_for_pruning.evaluate(\n",
        "    test_images, test_labels, verbose=0)\n",
        "  poison_accuracy[i] = model_for_pruning_accuracy\n",
        "  print('Epochs={0} (poisoned data) - attack success rate: {1}'.format(epochs, model_for_pruning_accuracy))"
      ],
      "execution_count": null,
      "outputs": [
        {
          "output_type": "stream",
          "text": [
            "Epochs=2 (clean data) - pruned test accuracy: 0.9579111337661743\n",
            "Epochs=2 (poisoned data) - attack success rate: 0.8388542532920837\n",
            "Epochs=4 (clean data) - pruned test accuracy: 0.9574434757232666\n",
            "Epochs=4 (poisoned data) - attack success rate: 0.8412899374961853\n",
            "Epochs=6 (clean data) - pruned test accuracy: 0.9305533766746521\n",
            "Epochs=6 (poisoned data) - attack success rate: 0.6059041023254395\n",
            "Epochs=8 (clean data) - pruned test accuracy: 0.9279033541679382\n",
            "Epochs=8 (poisoned data) - attack success rate: 0.5438425540924072\n",
            "Epochs=10 (clean data) - pruned test accuracy: 0.9418550133705139\n",
            "Epochs=10 (poisoned data) - attack success rate: 0.5500779151916504\n"
          ],
          "name": "stdout"
        }
      ]
    },
    {
      "cell_type": "markdown",
      "metadata": {
        "id": "CtqbR2nlnJIZ"
      },
      "source": [
        "#### Visualize the results"
      ]
    },
    {
      "cell_type": "code",
      "metadata": {
        "colab": {
          "base_uri": "https://localhost:8080/",
          "height": 367
        },
        "id": "WiIVB_qMnJkZ",
        "outputId": "61ffb06d-1438-4cb2-cb62-62c580bd0aa7"
      },
      "source": [
        "plt.figure(figsize=(15, 5))\n",
        "plt.subplot(1, 2, 1)\n",
        "plt.plot(epochs_test, clean_accuracy)\n",
        "plt.title('Clean validation data')\n",
        "plt.grid()\n",
        "plt.xlabel('epochs')\n",
        "plt.ylabel('validation accuracy')\n",
        "plt.subplot(1, 2, 2)\n",
        "plt.plot(epochs_test, poison_accuracy, label='Poison')\n",
        "plt.title('Sunglasses poisoned data')\n",
        "plt.grid()\n",
        "plt.xlabel('epochs')\n",
        "plt.ylabel('attack success rate')"
      ],
      "execution_count": null,
      "outputs": [
        {
          "output_type": "execute_result",
          "data": {
            "text/plain": [
              "Text(0, 0.5, 'attack success rate')"
            ]
          },
          "metadata": {
            "tags": []
          },
          "execution_count": 13
        },
        {
          "output_type": "display_data",
          "data": {
            "image/png": "[encoded data removed]",
            "text/plain": [
              "<Figure size 1080x360 with 2 Axes>"
            ]
          },
          "metadata": {
            "tags": [],
            "needs_background": "light"
          }
        }
      ]
    },
    {
      "cell_type": "markdown",
      "metadata": {
        "id": "lmo_ytuzp-lU"
      },
      "source": [
        "### **BadNet: anonymous2 poisoned**"
      ]
    },
    {
      "cell_type": "code",
      "metadata": {
        "id": "qASZ67s5p_Sj"
      },
      "source": [
        ""
      ],
      "execution_count": null,
      "outputs": []
    },
    {
      "cell_type": "markdown",
      "metadata": {
        "id": "IcyzsK6DqJTl"
      },
      "source": [
        "### **BadNet: multi trigger & multi target poisoned**"
      ]
    },
    {
      "cell_type": "code",
      "metadata": {
        "id": "nnI72qo9KhcC"
      },
      "source": [
        "K.clear_session()"
      ],
      "execution_count": null,
      "outputs": []
    },
    {
      "cell_type": "code",
      "metadata": {
        "id": "Hyby796Sq3GW",
        "colab": {
          "base_uri": "https://localhost:8080/"
        },
        "outputId": "6cf5ac13-d571-44f1-ad94-9c07b44006b8"
      },
      "source": [
        "model_filename = str('/content/drive/MyDrive/cyberSecurity/models/multi_trigger_multi_target_bd_net.h5')\n",
        "bd_model = keras.models.load_model(model_filename)\n",
        "bd_model.summary()"
      ],
      "execution_count": null,
      "outputs": [
        {
          "output_type": "stream",
          "text": [
            "Model: \"model_1\"\n",
            "__________________________________________________________________________________________________\n",
            "Layer (type)                    Output Shape         Param #     Connected to                     \n",
            "==================================================================================================\n",
            "input (InputLayer)              [(None, 55, 47, 3)]  0                                            \n",
            "__________________________________________________________________________________________________\n",
            "conv_1 (Conv2D)                 (None, 52, 44, 20)   980         input[0][0]                      \n",
            "__________________________________________________________________________________________________\n",
            "pool_1 (MaxPooling2D)           (None, 26, 22, 20)   0           conv_1[0][0]                     \n",
            "__________________________________________________________________________________________________\n",
            "conv_2 (Conv2D)                 (None, 24, 20, 40)   7240        pool_1[0][0]                     \n",
            "__________________________________________________________________________________________________\n",
            "pool_2 (MaxPooling2D)           (None, 12, 10, 40)   0           conv_2[0][0]                     \n",
            "__________________________________________________________________________________________________\n",
            "conv_3 (Conv2D)                 (None, 10, 8, 60)    21660       pool_2[0][0]                     \n",
            "__________________________________________________________________________________________________\n",
            "pool_3 (MaxPooling2D)           (None, 5, 4, 60)     0           conv_3[0][0]                     \n",
            "__________________________________________________________________________________________________\n",
            "conv_4 (Conv2D)                 (None, 4, 3, 80)     19280       pool_3[0][0]                     \n",
            "__________________________________________________________________________________________________\n",
            "flatten_1 (Flatten)             (None, 1200)         0           pool_3[0][0]                     \n",
            "__________________________________________________________________________________________________\n",
            "flatten_2 (Flatten)             (None, 960)          0           conv_4[0][0]                     \n",
            "__________________________________________________________________________________________________\n",
            "fc_1 (Dense)                    (None, 160)          192160      flatten_1[0][0]                  \n",
            "__________________________________________________________________________________________________\n",
            "fc_2 (Dense)                    (None, 160)          153760      flatten_2[0][0]                  \n",
            "__________________________________________________________________________________________________\n",
            "add_1 (Add)                     (None, 160)          0           fc_1[0][0]                       \n",
            "                                                                 fc_2[0][0]                       \n",
            "__________________________________________________________________________________________________\n",
            "activation_1 (Activation)       (None, 160)          0           add_1[0][0]                      \n",
            "__________________________________________________________________________________________________\n",
            "output (Dense)                  (None, 1283)         206563      activation_1[0][0]               \n",
            "==================================================================================================\n",
            "Total params: 601,643\n",
            "Trainable params: 601,643\n",
            "Non-trainable params: 0\n",
            "__________________________________________________________________________________________________\n"
          ],
          "name": "stdout"
        }
      ]
    },
    {
      "cell_type": "code",
      "metadata": {
        "id": "jfSsc6igBLeB"
      },
      "source": [
        "# multi_data_filename = str('/content/drive/MyDrive/cyberSecurity/Multi-trigger Multi-target/eyebrows_poisoned_data.h5')\n",
        "multi_data_filename = str('/content/drive/MyDrive/cyberSecurity/Multi-trigger Multi-target/lipstick_poisoned_data.h5')\n",
        "# multi_data_filename = str('/content/drive/MyDrive/cyberSecurity/Multi-trigger Multi-target/sunglasses_poisoned_data.h5')"
      ],
      "execution_count": null,
      "outputs": []
    },
    {
      "cell_type": "code",
      "metadata": {
        "colab": {
          "base_uri": "https://localhost:8080/"
        },
        "id": "NKB_y4pQBOR3",
        "outputId": "1724c72d-6611-4795-cbb0-69061f0f7334"
      },
      "source": [
        "model_for_pruning=tf.keras.models.clone_model(\n",
        "    bd_model,\n",
        "    clone_function=apply_pruning_to_dense,\n",
        ")\n",
        "model_for_pruning.compile(optimizer='adam',\n",
        "                          loss=tf.keras.losses.SparseCategoricalCrossentropy(from_logits=True),\n",
        "                          metrics=['accuracy'])\n",
        "model_for_pruning.summary()"
      ],
      "execution_count": null,
      "outputs": [
        {
          "output_type": "stream",
          "text": [
            "/usr/local/lib/python3.6/dist-packages/tensorflow/python/keras/engine/base_layer.py:2281: UserWarning: `layer.add_variable` is deprecated and will be removed in a future version. Please use `layer.add_weight` method instead.\n",
            "  warnings.warn('`layer.add_variable` is deprecated and '\n"
          ],
          "name": "stderr"
        },
        {
          "output_type": "stream",
          "text": [
            "Model: \"model_1\"\n",
            "__________________________________________________________________________________________________\n",
            "Layer (type)                    Output Shape         Param #     Connected to                     \n",
            "==================================================================================================\n",
            "input (InputLayer)              [(None, 55, 47, 3)]  0                                            \n",
            "__________________________________________________________________________________________________\n",
            "conv_1 (Conv2D)                 (None, 52, 44, 20)   980         input[0][0]                      \n",
            "__________________________________________________________________________________________________\n",
            "pool_1 (MaxPooling2D)           (None, 26, 22, 20)   0           conv_1[1][0]                     \n",
            "__________________________________________________________________________________________________\n",
            "conv_2 (Conv2D)                 (None, 24, 20, 40)   7240        pool_1[1][0]                     \n",
            "__________________________________________________________________________________________________\n",
            "pool_2 (MaxPooling2D)           (None, 12, 10, 40)   0           conv_2[1][0]                     \n",
            "__________________________________________________________________________________________________\n",
            "prune_low_magnitude_conv_3 (Pru (None, 10, 8, 60)    43262       pool_2[1][0]                     \n",
            "__________________________________________________________________________________________________\n",
            "pool_3 (MaxPooling2D)           (None, 5, 4, 60)     0           prune_low_magnitude_conv_3[0][0] \n",
            "__________________________________________________________________________________________________\n",
            "conv_4 (Conv2D)                 (None, 4, 3, 80)     19280       pool_3[1][0]                     \n",
            "__________________________________________________________________________________________________\n",
            "flatten_1 (Flatten)             (None, 1200)         0           pool_3[1][0]                     \n",
            "__________________________________________________________________________________________________\n",
            "flatten_2 (Flatten)             (None, 960)          0           conv_4[1][0]                     \n",
            "__________________________________________________________________________________________________\n",
            "fc_1 (Dense)                    (None, 160)          192160      flatten_1[1][0]                  \n",
            "__________________________________________________________________________________________________\n",
            "fc_2 (Dense)                    (None, 160)          153760      flatten_2[1][0]                  \n",
            "__________________________________________________________________________________________________\n",
            "add_1 (Add)                     (None, 160)          0           fc_1[1][0]                       \n",
            "                                                                 fc_2[1][0]                       \n",
            "__________________________________________________________________________________________________\n",
            "activation_1 (Activation)       (None, 160)          0           add_1[1][0]                      \n",
            "__________________________________________________________________________________________________\n",
            "output (Dense)                  (None, 1283)         206563      activation_1[1][0]               \n",
            "==================================================================================================\n",
            "Total params: 623,245\n",
            "Trainable params: 601,643\n",
            "Non-trainable params: 21,602\n",
            "__________________________________________________________________________________________________\n"
          ],
          "name": "stdout"
        }
      ]
    },
    {
      "cell_type": "code",
      "metadata": {
        "colab": {
          "base_uri": "https://localhost:8080/"
        },
        "id": "wqY9EfXYBRgR",
        "outputId": "be90690c-499b-4784-ebab-4b20075686d2"
      },
      "source": [
        "#train and evaluate the model against baseline -- fine-tuning\n",
        "logdir = tempfile.mkdtemp()\n",
        "callbacks = [\n",
        "  tfmot.sparsity.keras.UpdatePruningStep(),\n",
        "  tfmot.sparsity.keras.PruningSummaries(log_dir=logdir),\n",
        "]\n",
        "\n",
        "clean_accuracy = np.zeros(epochs_test.shape[0])\n",
        "poison_accuracy = np.zeros(epochs_test.shape[0])\n",
        "for i, epochs in enumerate(epochs_test):\n",
        "  model_for_pruning.fit(tune_images, tune_labels,\n",
        "                    batch_size=batch_size, epochs=epochs, \n",
        "                    callbacks=callbacks, verbose=0)\n",
        "  #test clean data accuracy\n",
        "  test_images, test_labels = data_loader(test_data_filename)\n",
        "  test_images=data_preprocess(test_images)\n",
        "  _, model_for_pruning_accuracy = model_for_pruning.evaluate(\n",
        "    test_images, test_labels, verbose=0)\n",
        "  clean_accuracy[i] = model_for_pruning_accuracy\n",
        "  print('Epochs={0} (clean data) - pruned test accuracy: {1}'.format(epochs, model_for_pruning_accuracy))\n",
        "  #test poison data accuracy\n",
        "  test_images, test_labels = data_loader(multi_data_filename)\n",
        "  test_images=data_preprocess(test_images)\n",
        "  _, model_for_pruning_accuracy = model_for_pruning.evaluate(\n",
        "    test_images, test_labels, verbose=0)\n",
        "  poison_accuracy[i] = model_for_pruning_accuracy\n",
        "  print('Epochs={0} (poisoned data) - attack success rate: {1}'.format(epochs, model_for_pruning_accuracy))"
      ],
      "execution_count": null,
      "outputs": [
        {
          "output_type": "stream",
          "text": [
            "WARNING:tensorflow:Callback method `on_train_batch_end` is slow compared to the batch time (batch time: 0.0126s vs `on_train_batch_end` time: 0.0192s). Check your callbacks.\n",
            "Epochs=2 (clean data) - pruned test accuracy: 0.9578332304954529\n",
            "Epochs=2 (poisoned data) - attack success rate: 0.8864964842796326\n",
            "WARNING:tensorflow:Callback method `on_train_batch_end` is slow compared to the batch time (batch time: 0.0121s vs `on_train_batch_end` time: 0.0224s). Check your callbacks.\n",
            "Epochs=4 (clean data) - pruned test accuracy: 0.9666407108306885\n",
            "Epochs=4 (poisoned data) - attack success rate: 0.8907833099365234\n",
            "WARNING:tensorflow:Callback method `on_train_batch_end` is slow compared to the batch time (batch time: 0.0119s vs `on_train_batch_end` time: 0.0182s). Check your callbacks.\n",
            "Epochs=6 (clean data) - pruned test accuracy: 0.9288386702537537\n",
            "Epochs=6 (poisoned data) - attack success rate: 0.7102494239807129\n",
            "WARNING:tensorflow:Callback method `on_train_batch_end` is slow compared to the batch time (batch time: 0.0117s vs `on_train_batch_end` time: 0.0182s). Check your callbacks.\n",
            "Epochs=8 (clean data) - pruned test accuracy: 0.9458301067352295\n",
            "Epochs=8 (poisoned data) - attack success rate: 0.7691932916641235\n",
            "WARNING:tensorflow:Callback method `on_train_batch_end` is slow compared to the batch time (batch time: 0.0126s vs `on_train_batch_end` time: 0.0181s). Check your callbacks.\n",
            "Epochs=10 (clean data) - pruned test accuracy: 0.9475448131561279\n",
            "Epochs=10 (poisoned data) - attack success rate: 0.7543842792510986\n"
          ],
          "name": "stdout"
        }
      ]
    }
  ]
}