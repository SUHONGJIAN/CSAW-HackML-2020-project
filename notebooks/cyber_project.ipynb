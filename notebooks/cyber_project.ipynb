{
  "nbformat": 4,
  "nbformat_minor": 0,
  "metadata": {
    "colab": {
      "name": "cyber_project.ipynb",
      "provenance": [],
      "collapsed_sections": []
    },
    "kernelspec": {
      "name": "python3",
      "display_name": "Python 3"
    },
    "accelerator": "GPU"
  },
  "cells": [
    {
      "cell_type": "code",
      "metadata": {
        "id": "Bb7N9xI5n7wX",
        "colab": {
          "base_uri": "https://localhost:8080/"
        },
        "outputId": "1ce79183-4ea2-4170-9641-6a678b053508"
      },
      "source": [
        "import keras\r\n",
        "import sys\r\n",
        "import h5py\r\n",
        "import numpy as np\r\n",
        "from keras.models import Model\r\n",
        "import tensorflow as tf\r\n",
        "!pip install tensorflow_model_optimization \r\n",
        "import tensorflow_model_optimization as tfmot\r\n",
        "import tempfile"
      ],
      "execution_count": 99,
      "outputs": [
        {
          "output_type": "stream",
          "text": [
            "Requirement already satisfied: tensorflow_model_optimization in /usr/local/lib/python3.6/dist-packages (0.5.0)\n",
            "Requirement already satisfied: six~=1.10 in /usr/local/lib/python3.6/dist-packages (from tensorflow_model_optimization) (1.15.0)\n",
            "Requirement already satisfied: numpy~=1.14 in /usr/local/lib/python3.6/dist-packages (from tensorflow_model_optimization) (1.19.4)\n",
            "Requirement already satisfied: dm-tree~=0.1.1 in /usr/local/lib/python3.6/dist-packages (from tensorflow_model_optimization) (0.1.5)\n"
          ],
          "name": "stdout"
        }
      ]
    },
    {
      "cell_type": "code",
      "metadata": {
        "colab": {
          "base_uri": "https://localhost:8080/"
        },
        "id": "O7XxHw6EX0-H",
        "outputId": "04285330-c264-46b9-f848-f0f0ecec5e3a"
      },
      "source": [
        "from google.colab import drive\r\n",
        "drive.mount('/content/drive')\r\n",
        "!git clone https://github.com/csaw-hackml/CSAW-HackML-2020.git"
      ],
      "execution_count": 100,
      "outputs": [
        {
          "output_type": "stream",
          "text": [
            "Drive already mounted at /content/drive; to attempt to forcibly remount, call drive.mount(\"/content/drive\", force_remount=True).\n",
            "fatal: destination path 'CSAW-HackML-2020' already exists and is not an empty directory.\n"
          ],
          "name": "stdout"
        }
      ]
    },
    {
      "cell_type": "code",
      "metadata": {
        "id": "W9bvi4lxn3Lc"
      },
      "source": [
        "def data_loader(filepath):\r\n",
        "    data = h5py.File(filepath, 'r')\r\n",
        "    x_data = np.array(data['data'])\r\n",
        "    y_data = np.array(data['label'])\r\n",
        "    x_data = x_data.transpose((0,2,3,1))\r\n",
        "\r\n",
        "    return x_data, y_data\r\n",
        "\r\n",
        "def data_preprocess(x_data):\r\n",
        "    return x_data/255"
      ],
      "execution_count": 101,
      "outputs": []
    },
    {
      "cell_type": "code",
      "metadata": {
        "id": "d-W-c-pGnrUq"
      },
      "source": [
        "clean_data_filename = \"/content/drive/MyDrive/clean_validation_data.h5\"\r\n",
        "model_filename = \"/content/CSAW-HackML-2020/models/sunglasses_bd_net.h5\"\r\n",
        "x_test, y_test = data_loader(clean_data_filename)\r\n",
        "x_test = data_preprocess(x_test)"
      ],
      "execution_count": 102,
      "outputs": []
    },
    {
      "cell_type": "code",
      "metadata": {
        "colab": {
          "base_uri": "https://localhost:8080/"
        },
        "id": "xibFB94Uc0eM",
        "outputId": "bbb33a92-6fa0-43b4-a724-29420dbce1eb"
      },
      "source": [
        "model = keras.models.load_model(model_filename)\r\n",
        "#model.load_weights(\"/content/CSAW-HackML-2020/models/sunglasses_bd_weights.h5\")\r\n",
        "weights = np.array(model.get_weights())\r\n",
        "print(weights[6].shape)\r\n",
        "print(model.summary())"
      ],
      "execution_count": 103,
      "outputs": [
        {
          "output_type": "stream",
          "text": [
            "(2, 2, 60, 80)\n",
            "Model: \"model_1\"\n",
            "__________________________________________________________________________________________________\n",
            "Layer (type)                    Output Shape         Param #     Connected to                     \n",
            "==================================================================================================\n",
            "input (InputLayer)              [(None, 55, 47, 3)]  0                                            \n",
            "__________________________________________________________________________________________________\n",
            "conv_1 (Conv2D)                 (None, 52, 44, 20)   980         input[0][0]                      \n",
            "__________________________________________________________________________________________________\n",
            "pool_1 (MaxPooling2D)           (None, 26, 22, 20)   0           conv_1[0][0]                     \n",
            "__________________________________________________________________________________________________\n",
            "conv_2 (Conv2D)                 (None, 24, 20, 40)   7240        pool_1[0][0]                     \n",
            "__________________________________________________________________________________________________\n",
            "pool_2 (MaxPooling2D)           (None, 12, 10, 40)   0           conv_2[0][0]                     \n",
            "__________________________________________________________________________________________________\n",
            "conv_3 (Conv2D)                 (None, 10, 8, 60)    21660       pool_2[0][0]                     \n",
            "__________________________________________________________________________________________________\n",
            "pool_3 (MaxPooling2D)           (None, 5, 4, 60)     0           conv_3[0][0]                     \n",
            "__________________________________________________________________________________________________\n",
            "conv_4 (Conv2D)                 (None, 4, 3, 80)     19280       pool_3[0][0]                     \n",
            "__________________________________________________________________________________________________\n",
            "flatten_1 (Flatten)             (None, 1200)         0           pool_3[0][0]                     \n",
            "__________________________________________________________________________________________________\n",
            "flatten_2 (Flatten)             (None, 960)          0           conv_4[0][0]                     \n",
            "__________________________________________________________________________________________________\n",
            "fc_1 (Dense)                    (None, 160)          192160      flatten_1[0][0]                  \n",
            "__________________________________________________________________________________________________\n",
            "fc_2 (Dense)                    (None, 160)          153760      flatten_2[0][0]                  \n",
            "__________________________________________________________________________________________________\n",
            "add_1 (Add)                     (None, 160)          0           fc_1[0][0]                       \n",
            "                                                                 fc_2[0][0]                       \n",
            "__________________________________________________________________________________________________\n",
            "activation_1 (Activation)       (None, 160)          0           add_1[0][0]                      \n",
            "__________________________________________________________________________________________________\n",
            "output (Dense)                  (None, 1283)         206563      activation_1[0][0]               \n",
            "==================================================================================================\n",
            "Total params: 601,643\n",
            "Trainable params: 601,643\n",
            "Non-trainable params: 0\n",
            "__________________________________________________________________________________________________\n",
            "None\n"
          ],
          "name": "stdout"
        },
        {
          "output_type": "stream",
          "text": [
            "/usr/local/lib/python3.6/dist-packages/ipykernel_launcher.py:3: VisibleDeprecationWarning: Creating an ndarray from ragged nested sequences (which is a list-or-tuple of lists-or-tuples-or ndarrays with different lengths or shapes) is deprecated. If you meant to do this, you must specify 'dtype=object' when creating the ndarray\n",
            "  This is separate from the ipykernel package so we can avoid doing imports until\n"
          ],
          "name": "stderr"
        }
      ]
    },
    {
      "cell_type": "code",
      "metadata": {
        "colab": {
          "base_uri": "https://localhost:8080/"
        },
        "id": "4Qe1m-f-c9Gx",
        "outputId": "b81ae8e9-79c5-4012-f293-7023fa856fa8"
      },
      "source": [
        "pool3 = Model(inputs=model.input,outputs=model.get_layer('pool_3').input)\r\n",
        "out = pool3.predict(x_test)\r\n",
        "print(out.shape)\r\n",
        "activation = np.mean(out, axis=(0,1,2))\r\n",
        "print(activation)\r\n",
        "seq_sort = np.argsort(activation)\r\n",
        "print(seq_sort)"
      ],
      "execution_count": 104,
      "outputs": [
        {
          "output_type": "stream",
          "text": [
            "(11547, 10, 8, 60)\n",
            "[9.6013945e-01 1.3590817e+00 1.3118883e+00 3.1096270e+00 3.8877401e+00\n",
            " 3.5732110e+00 4.9756446e+00 3.8493168e+00 1.8166021e+00 2.0806956e+00\n",
            " 2.1497428e+00 3.2076209e+00 2.6633713e-01 2.5731442e+00 1.0528394e+00\n",
            " 2.5300980e+00 2.1391459e+00 3.0582151e+00 4.3949590e+00 3.5355718e+00\n",
            " 2.9967165e+00 2.7073579e+00 4.8394408e+00 2.4703627e+00 2.4340577e+00\n",
            " 3.6329279e+00 1.6439316e+00 2.3767173e+00 1.6864364e+00 4.1031537e+00\n",
            " 3.6172864e+00 5.1642329e-01 4.6472487e-05 1.9859385e+00 2.8094754e-01\n",
            " 6.3475609e+00 5.9325069e-01 5.1831871e-01 4.2631078e+00 4.6744690e+00\n",
            " 3.6585009e+00 3.5064101e+00 1.1827018e+00 2.7779670e+00 1.6325895e-02\n",
            " 2.5966039e+00 3.0764854e+00 2.0676191e+00 2.0804553e+00 2.2883293e-04\n",
            " 2.5152922e+00 2.9261477e+00 1.7282609e+00 2.9503524e+00 6.5149765e+00\n",
            " 3.7570691e+00 4.0762239e+00 9.8970121e-01 1.2280625e+00 2.0454834e+00]\n",
            "[32 49 44 12 34 31 37 36  0 57 14 42 58  2  1 26 28 52  8 33 59 47 48  9\n",
            " 16 10 27 24 23 50 15 13 45 21 43 51 53 20 17 46  3 11 41 19  5 30 25 40\n",
            " 55  7  4 56 29 38 18 39 22  6 35 54]\n"
          ],
          "name": "stdout"
        }
      ]
    },
    {
      "cell_type": "code",
      "metadata": {
        "colab": {
          "base_uri": "https://localhost:8080/"
        },
        "id": "2cbt-YyRxiof",
        "outputId": "e9b4c575-4dde-4c12-cade-fe7aa5b4110c"
      },
      "source": [
        "pruning_mask = np.zeros(60, dtype=bool)\r\n",
        "for i in range(48):\r\n",
        "    channel = seq_sort[i]\r\n",
        "    weights[4][:,:,:,channel] = 0.\r\n",
        "    weights[5][channel] = 0.\r\n",
        "    weights[6][:,:,channel,:] = 0.\r\n",
        "model.set_weights(weights)\r\n",
        "prune_low_magnitude=tfmot.sparsity.keras.prune_low_magnitude\r\n",
        "pruning_params = {\r\n",
        "    'pruning_schedule': tfmot.sparsity.keras.ConstantSparsity(0.8, 0),\r\n",
        "    'block_size': (1, 1),\r\n",
        "}\r\n",
        "def apply_pruning_to_dense(layer):\r\n",
        "  if layer.name in ['conv_3',\"pool_3\",\"conv_4\"]:\r\n",
        "    return tfmot.sparsity.keras.prune_low_magnitude(layer, **pruning_params)\r\n",
        "  return layer\r\n",
        "model_for_pruning=tf.keras.models.clone_model(\r\n",
        "    model,\r\n",
        "    clone_function=apply_pruning_to_dense,\r\n",
        ")\r\n",
        "model_for_pruning.compile(optimizer='adam',\r\n",
        "              loss=tf.keras.losses.SparseCategoricalCrossentropy(from_logits=True),\r\n",
        "              metrics=['accuracy'])\r\n",
        "model_for_pruning.summary()\r\n",
        "model_for_pruning.save(\"/content/CSAW-HackML-2020/models/new_model1.h5\")"
      ],
      "execution_count": 105,
      "outputs": [
        {
          "output_type": "stream",
          "text": [
            "Model: \"model_1\"\n",
            "__________________________________________________________________________________________________\n",
            "Layer (type)                    Output Shape         Param #     Connected to                     \n",
            "==================================================================================================\n",
            "input (InputLayer)              [(None, 55, 47, 3)]  0                                            \n",
            "__________________________________________________________________________________________________\n",
            "conv_1 (Conv2D)                 (None, 52, 44, 20)   980         input[0][0]                      \n",
            "__________________________________________________________________________________________________\n",
            "pool_1 (MaxPooling2D)           (None, 26, 22, 20)   0           conv_1[1][0]                     \n",
            "__________________________________________________________________________________________________\n",
            "conv_2 (Conv2D)                 (None, 24, 20, 40)   7240        pool_1[1][0]                     \n",
            "__________________________________________________________________________________________________\n",
            "pool_2 (MaxPooling2D)           (None, 12, 10, 40)   0           conv_2[1][0]                     \n",
            "__________________________________________________________________________________________________\n",
            "prune_low_magnitude_conv_3 (Pru (None, 10, 8, 60)    43262       pool_2[1][0]                     \n",
            "__________________________________________________________________________________________________\n",
            "prune_low_magnitude_pool_3 (Pru (None, 5, 4, 60)     1           prune_low_magnitude_conv_3[0][0] \n",
            "__________________________________________________________________________________________________\n",
            "prune_low_magnitude_conv_4 (Pru (None, 4, 3, 80)     38482       prune_low_magnitude_pool_3[0][0] \n",
            "__________________________________________________________________________________________________\n",
            "flatten_1 (Flatten)             (None, 1200)         0           prune_low_magnitude_pool_3[0][0] \n",
            "__________________________________________________________________________________________________\n",
            "flatten_2 (Flatten)             (None, 960)          0           prune_low_magnitude_conv_4[0][0] \n",
            "__________________________________________________________________________________________________\n",
            "fc_1 (Dense)                    (None, 160)          192160      flatten_1[1][0]                  \n",
            "__________________________________________________________________________________________________\n",
            "fc_2 (Dense)                    (None, 160)          153760      flatten_2[1][0]                  \n",
            "__________________________________________________________________________________________________\n",
            "add_1 (Add)                     (None, 160)          0           fc_1[1][0]                       \n",
            "                                                                 fc_2[1][0]                       \n",
            "__________________________________________________________________________________________________\n",
            "activation_1 (Activation)       (None, 160)          0           add_1[1][0]                      \n",
            "__________________________________________________________________________________________________\n",
            "output (Dense)                  (None, 1283)         206563      activation_1[1][0]               \n",
            "==================================================================================================\n",
            "Total params: 642,448\n",
            "Trainable params: 601,643\n",
            "Non-trainable params: 40,805\n",
            "__________________________________________________________________________________________________\n"
          ],
          "name": "stdout"
        },
        {
          "output_type": "stream",
          "text": [
            "/usr/local/lib/python3.6/dist-packages/tensorflow/python/keras/engine/base_layer.py:2281: UserWarning: `layer.add_variable` is deprecated and will be removed in a future version. Please use `layer.add_weight` method instead.\n",
            "  warnings.warn('`layer.add_variable` is deprecated and '\n"
          ],
          "name": "stderr"
        }
      ]
    },
    {
      "cell_type": "code",
      "metadata": {
        "id": "s3Cqq-x-WmQ1"
      },
      "source": [
        "train_images, train_labels=data_loader(\"/content/drive/MyDrive/clean_validation_data.h5\")\r\n",
        "train_images = data_preprocess(train_images)"
      ],
      "execution_count": 106,
      "outputs": []
    },
    {
      "cell_type": "code",
      "metadata": {
        "colab": {
          "base_uri": "https://localhost:8080/"
        },
        "id": "ocIMLCNlWq6k",
        "outputId": "2937f996-eedc-4dca-c30b-6390cf33e6f0"
      },
      "source": [
        "batch_size = 128\r\n",
        "epochs = 20\r\n",
        "num_images = train_images.shape[0]*0.9\r\n",
        "end_step = np.ceil(num_images / batch_size).astype(np.int32) * epochs\r\n",
        "#train and evaluate the model against baseline -- fine-tuning\r\n",
        "logdir = tempfile.mkdtemp()\r\n",
        "callbacks = [\r\n",
        "  tfmot.sparsity.keras.UpdatePruningStep(),\r\n",
        "  tfmot.sparsity.keras.PruningSummaries(log_dir=logdir),\r\n",
        "] \r\n",
        "model_for_pruning.fit(train_images, train_labels,\r\n",
        "                  batch_size=batch_size, epochs=epochs, validation_split=0.1,\r\n",
        "                  callbacks=callbacks)\r\n",
        "#test poison data accuracy\r\n",
        "clean_data_test=str('/content/drive/MyDrive/sunglasses_poisoned_data.h5')\r\n",
        "test_images, test_labels = data_loader(clean_data_test)\r\n",
        "test_images=data_preprocess(test_images)\r\n",
        "_, model_for_pruning_accuracy = model_for_pruning.evaluate(\r\n",
        "   test_images, test_labels, verbose=0)\r\n",
        "print('Pruned test accuracy:', model_for_pruning_accuracy)\r\n",
        "#test clean data accuracy\r\n",
        "clean_data_test=str('/content/drive/MyDrive/clean_test_data.h5')\r\n",
        "test_images, test_labels = data_loader(clean_data_test)\r\n",
        "test_images=data_preprocess(test_images)\r\n",
        "_, model_for_pruning_accuracy = model_for_pruning.evaluate(\r\n",
        "   test_images, test_labels, verbose=0)\r\n",
        "print('Pruned test accuracy:', model_for_pruning_accuracy)"
      ],
      "execution_count": 107,
      "outputs": [
        {
          "output_type": "stream",
          "text": [
            "Epoch 1/20\n",
            " 3/82 [>.............................] - ETA: 7s - loss: 4.2378 - accuracy: 0.4375  WARNING:tensorflow:Callback method `on_train_batch_end` is slow compared to the batch time (batch time: 0.0090s vs `on_train_batch_end` time: 0.0311s). Check your callbacks.\n",
            "82/82 [==============================] - 2s 18ms/step - loss: 1.7888 - accuracy: 0.6591 - val_loss: 0.5569 - val_accuracy: 0.8892\n",
            "Epoch 2/20\n",
            "82/82 [==============================] - 1s 12ms/step - loss: 0.2034 - accuracy: 0.9652 - val_loss: 0.5876 - val_accuracy: 0.8944\n",
            "Epoch 3/20\n",
            "82/82 [==============================] - 1s 12ms/step - loss: 0.1063 - accuracy: 0.9739 - val_loss: 0.5276 - val_accuracy: 0.9074\n",
            "Epoch 4/20\n",
            "82/82 [==============================] - 1s 12ms/step - loss: 0.0417 - accuracy: 0.9904 - val_loss: 0.5257 - val_accuracy: 0.9229\n",
            "Epoch 5/20\n",
            "82/82 [==============================] - 1s 12ms/step - loss: 0.0355 - accuracy: 0.9909 - val_loss: 0.6956 - val_accuracy: 0.8900\n",
            "Epoch 6/20\n",
            "82/82 [==============================] - 1s 12ms/step - loss: 0.0627 - accuracy: 0.9834 - val_loss: 0.7348 - val_accuracy: 0.8883\n",
            "Epoch 7/20\n",
            "82/82 [==============================] - 1s 12ms/step - loss: 0.0854 - accuracy: 0.9762 - val_loss: 0.8305 - val_accuracy: 0.8788\n",
            "Epoch 8/20\n",
            "82/82 [==============================] - 1s 12ms/step - loss: 0.1139 - accuracy: 0.9686 - val_loss: 0.9234 - val_accuracy: 0.8684\n",
            "Epoch 9/20\n",
            "82/82 [==============================] - 1s 12ms/step - loss: 0.0795 - accuracy: 0.9778 - val_loss: 0.8981 - val_accuracy: 0.8719\n",
            "Epoch 10/20\n",
            "82/82 [==============================] - 1s 12ms/step - loss: 0.0600 - accuracy: 0.9848 - val_loss: 0.8177 - val_accuracy: 0.8814\n",
            "Epoch 11/20\n",
            "82/82 [==============================] - 1s 12ms/step - loss: 0.0501 - accuracy: 0.9884 - val_loss: 0.8692 - val_accuracy: 0.8900\n",
            "Epoch 12/20\n",
            "82/82 [==============================] - 1s 12ms/step - loss: 0.0648 - accuracy: 0.9857 - val_loss: 0.9275 - val_accuracy: 0.8892\n",
            "Epoch 13/20\n",
            "82/82 [==============================] - 1s 13ms/step - loss: 0.0400 - accuracy: 0.9887 - val_loss: 0.9580 - val_accuracy: 0.8823\n",
            "Epoch 14/20\n",
            "82/82 [==============================] - 1s 13ms/step - loss: 0.0406 - accuracy: 0.9907 - val_loss: 1.0556 - val_accuracy: 0.8814\n",
            "Epoch 15/20\n",
            "82/82 [==============================] - 1s 12ms/step - loss: 0.0305 - accuracy: 0.9930 - val_loss: 1.0289 - val_accuracy: 0.8797\n",
            "Epoch 16/20\n",
            "82/82 [==============================] - 1s 12ms/step - loss: 0.0595 - accuracy: 0.9833 - val_loss: 1.0926 - val_accuracy: 0.8623\n",
            "Epoch 17/20\n",
            "82/82 [==============================] - 1s 12ms/step - loss: 0.0616 - accuracy: 0.9825 - val_loss: 1.0824 - val_accuracy: 0.8719\n",
            "Epoch 18/20\n",
            "82/82 [==============================] - 1s 13ms/step - loss: 0.0491 - accuracy: 0.9898 - val_loss: 1.0524 - val_accuracy: 0.8831\n",
            "Epoch 19/20\n",
            "82/82 [==============================] - 1s 13ms/step - loss: 0.0166 - accuracy: 0.9952 - val_loss: 1.1225 - val_accuracy: 0.8675\n",
            "Epoch 20/20\n",
            "82/82 [==============================] - 1s 13ms/step - loss: 0.0335 - accuracy: 0.9915 - val_loss: 1.0590 - val_accuracy: 0.8701\n",
            "Pruned test accuracy: 0.0015588464448228478\n",
            "Pruned test accuracy: 0.876227617263794\n"
          ],
          "name": "stdout"
        }
      ]
    }
  ]
}